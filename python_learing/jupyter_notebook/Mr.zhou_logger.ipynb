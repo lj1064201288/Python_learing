{
 "cells": [
  {
   "cell_type": "markdown",
   "metadata": {},
   "source": [
    "### logging\n",
    "- logginf.debug\n",
    "- logging.info\n",
    "- logging.warning\n",
    "- logging.error\n",
    "- logging.crltical\n"
   ]
  },
  {
   "cell_type": "code",
   "execution_count": 1,
   "metadata": {},
   "outputs": [],
   "source": [
    "import logging\n",
    "\n",
    "LOG_FORMAT = '%(asctime)s - %(levelname)s - %(message)s'\n",
    "\n",
    "logging.basicConfig(level=logging.DEBUG, format=LOG_FORMAT, filename='my.log')\n",
    "logging.debug('this is debug')\n",
    "logging.info('this is info')\n",
    "logging.warning('this is warning')\n",
    "logging.error(\"this is error\")\n",
    "logging.critical(\"this is critical\")\n"
   ]
  },
  {
   "cell_type": "markdown",
   "metadata": {},
   "source": [
    "#### 装饰器\n",
    "- 使用装饰器,打印函数执行的时间"
   ]
  },
  {
   "cell_type": "code",
   "execution_count": 7,
   "metadata": {},
   "outputs": [
    {
     "name": "stderr",
     "output_type": "stream",
     "text": [
      "2019-01-02 22:11:22,580 - ERROR - this is info message\n"
     ]
    },
    {
     "name": "stdout",
     "output_type": "stream",
     "text": [
      "test done\n"
     ]
    }
   ],
   "source": [
    "import logging\n",
    "\n",
    "LOG_FORMAT = '%(asctime)s - %(levelname)s - %(message)s'\n",
    "logging.basicConfig(format=LOG_FORMAT)\n",
    "\n",
    "# def log(func):\n",
    "#     def wrapper(*arg, **kw):\n",
    "#         logging.error('this is info message')\n",
    "#         return func(*arg, **kw)\n",
    "    \n",
    "#     return wrapper\n",
    "\n",
    "@log\n",
    "def test():\n",
    "    print('test done')\n",
    "\n",
    "test()"
   ]
  },
  {
   "cell_type": "code",
   "execution_count": 1,
   "metadata": {},
   "outputs": [
    {
     "name": "stdout",
     "output_type": "stream",
     "text": [
      "test done\n",
      "main done\n"
     ]
    }
   ],
   "source": [
    "### 使用装饰器,根据不同的函数,传入日志不相同\n",
    "\n",
    "import logging\n",
    "\n",
    "LOG_FORMAT = \"%(asctime)s - %(levelname)s - %(message)s\"\n",
    "\n",
    "logging.basicConfig(format=LOG_FORMAT, filename='xxx.log')\n",
    "\n",
    "def log(text):\n",
    "    def decotatur(func):\n",
    "        def wrapper(*arg, **kw):\n",
    "            logging.error(text)\n",
    "            return func(*arg, **kw)\n",
    "        return wrapper\n",
    "    return decotatur\n",
    "    \n",
    "\n",
    "@log('test done')\n",
    "def test():\n",
    "    print('test done')\n",
    "\n",
    "@log(\"main done\")\n",
    "def main():\n",
    "    print('main done')\n",
    "test()\n",
    "main()"
   ]
  },
  {
   "cell_type": "markdown",
   "metadata": {},
   "source": [
    "### 用logging的四大组件来实现日志的功能\n",
    "- 打印出函数执行时间, 日志的等级, 日志的消息\n",
    "- 使用装饰器"
   ]
  },
  {
   "cell_type": "code",
   "execution_count": 8,
   "metadata": {},
   "outputs": [
    {
     "name": "stdout",
     "output_type": "stream",
     "text": [
      "test done\n",
      "main done\n"
     ]
    }
   ],
   "source": [
    "import logging\n",
    "\n",
    "\n",
    "logger = logging.getLogger('mylogger')\n",
    "\n",
    "logger.setLevel(logging.DEBUG)\n",
    "\n",
    "# handler\n",
    "# TimeRotaionFileHandler 是用来按照日志的日期来划分日志\n",
    "# RotaionFileHandler 是按照日志文件的大小划分日志\n",
    "debug_handler = logging.FileHandler('0102debug.log')\n",
    "debug_handler.setLevel(logging.DEBUG)\n",
    "debug_handler.setFormatter(logging.Formatter('%(asctime)s - %(levelname)s - %(message)s'))\n",
    "\n",
    "error_handler = logging.FileHandler('0102error.log')\n",
    "error_handler.setLevel(logging.ERROR)\n",
    "error_handler.setFormatter(logging.Formatter('%(asctime)s - %(levelname)s - %(message)s'))\n",
    "\n",
    "logger.addHandler(debug_handler)\n",
    "logger.addHandler(error_handler)\n",
    "\n",
    "# 按照函数的不同,要在日志中打印出不同的东西\n",
    "def loghight(text):\n",
    "        def decorator(func):\n",
    "            def wrapper(*arg, **kw):\n",
    "                logger.debug(text)\n",
    "                logger.error(text)\n",
    "                return func(*arg, **kw)\n",
    "            return wrapper\n",
    "        return decorator\n",
    "\n",
    "def log(func):\n",
    "    def wrapper(*arg, **kw):\n",
    "        print(func.__name__)\n",
    "        logger.debug('this is a debug info')\n",
    "        logger.error('this is a error info')\n",
    "        return func(*arg, **kw)\n",
    "    return wrapper\n",
    "\n",
    "\n",
    "@log\n",
    "def test():\n",
    "    print('test done')\n",
    "\n",
    "@loghight('this test1')\n",
    "def test1():\n",
    "    print('test done')\n",
    "\n",
    "@loghight('this main')\n",
    "def main():\n",
    "    print('main done')\n",
    "    \n",
    "test1()\n",
    "main()"
   ]
  },
  {
   "cell_type": "markdown",
   "metadata": {},
   "source": [
    "### 用logging的四大组件来实现日志的功能\n",
    "- 打印出函数执行时间, 日志的等级, 日志的消息\n",
    "- 使用装饰器"
   ]
  },
  {
   "cell_type": "code",
   "execution_count": 20,
   "metadata": {},
   "outputs": [
    {
     "name": "stdout",
     "output_type": "stream",
     "text": [
      "test done\n",
      "main done\n"
     ]
    }
   ],
   "source": [
    "import logging\n",
    "\n",
    "logger = logging.getLogger('mylog')\n",
    "\n",
    "logger.setLevel(logging.DEBUG)\n",
    "\n",
    "debug_handler = logging.FileHandler('2019.0102debug.log')\n",
    "debug_handler.setLevel(logging.DEBUG)\n",
    "debug_handler.setFormatter(logging.Formatter('%(asctime)s-%(levelname)s-%(message)s'))\n",
    "\n",
    "error_handler = logging.FileHandler('20190102error.log')\n",
    "error_handler.setLevel(logging.ERROR)\n",
    "error_handler.setFormatter(logging.Formatter('%(asctime)s-%(levelname)s-%(message)s'))\n",
    "\n",
    "logger.addHandler(debug_handler)\n",
    "logger.addHandler(error_handler)\n",
    "\n",
    "\n",
    "def loghight(text):\n",
    "    def decorator(func):\n",
    "        def wrapper(*arg, **kw):\n",
    "            logger.debug(text)\n",
    "            logger.error(text)\n",
    "            return func(*arg, **kw)\n",
    "        return wrapper\n",
    "    return decorator\n",
    "\n",
    "\n",
    "def log(func):\n",
    "    def wrapper(*arg, **kw):\n",
    "        logger.debug('this is a debug')\n",
    "        logger.error('this is a error')\n",
    "        return func(*arg, **kw)\n",
    "    return wrapper\n",
    "\n",
    "\n",
    "@loghight('this test')\n",
    "def test():\n",
    "    print('test done')\n",
    "\n",
    "@loghight('this main')\n",
    "def main():\n",
    "    print('main done')\n",
    "    \n",
    "test()\n",
    "main()"
   ]
  },
  {
   "cell_type": "markdown",
   "metadata": {},
   "source": [
    "### 用logging的四大组件来实现日志的功能\n",
    "- 打印出函数执行时间, 日志的等级, 日志的消息\n",
    "- 使用装饰器"
   ]
  },
  {
   "cell_type": "code",
   "execution_count": 33,
   "metadata": {},
   "outputs": [
    {
     "name": "stdout",
     "output_type": "stream",
     "text": [
      "test3 done\n",
      "main done\n"
     ]
    }
   ],
   "source": [
    "logger = logging.getLogger('mylog2')\n",
    "\n",
    "logger.setLevel(logging.DEBUG)\n",
    "\n",
    "debug_handler = logging.FileHandler('2019debug.log')\n",
    "debug_handler.setLevel(logging.DEBUG)\n",
    "debug_handler.setFormatter(logging.Formatter('%(asctime)s-%(levelname)s-%(message)s'))\n",
    "\n",
    "error_handler = logging.FileHandler('2019error.log')\n",
    "error_handler.setLevel(logging.ERROR)\n",
    "error_handler.setFormatter(logging.Formatter('%(asctime)s-%(levelname)s-%(message)s'))\n",
    "\n",
    "logger.addHandler(debug_handler)\n",
    "logger.addHandler(error_handler)\n",
    "\n",
    "def log(func):\n",
    "    def wrapper(*arg, **kw):\n",
    "        logger.debug('this is a debug')\n",
    "        logger.error('this is a error')\n",
    "        return func(*arg, **kw)\n",
    "    return wrapper\n",
    "\n",
    "def loghight(text):\n",
    "    def decorator(func):\n",
    "        def wrapper(*arg, **kw):\n",
    "            logger.debug(text)\n",
    "            logger.error(text)\n",
    "            return func(*arg, **kw)\n",
    "        return wrapper\n",
    "    return decorator\n",
    "\n",
    "\n",
    "@loghight('this test3')\n",
    "def test3():\n",
    "    print('test3 done')\n",
    "    \n",
    "@loghight('this main')\n",
    "def main():\n",
    "    print('main done')\n",
    "    \n",
    "test3()\n",
    "main()"
   ]
  }
 ],
 "metadata": {
  "kernelspec": {
   "display_name": "Python 3",
   "language": "python",
   "name": "python3"
  },
  "language_info": {
   "codemirror_mode": {
    "name": "ipython",
    "version": 3
   },
   "file_extension": ".py",
   "mimetype": "text/x-python",
   "name": "python",
   "nbconvert_exporter": "python",
   "pygments_lexer": "ipython3",
   "version": "3.6.3"
  }
 },
 "nbformat": 4,
 "nbformat_minor": 2
}
