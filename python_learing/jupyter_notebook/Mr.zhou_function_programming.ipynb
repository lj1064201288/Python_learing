{
 "cells": [
  {
   "cell_type": "markdown",
   "metadata": {},
   "source": [
    "### 利用map()函数，把用户输入的不规范的英文，变成首字母大写，其他小写的规范的名字：比如说[\"ADMAm\",\"LISA\",\"JACk\"]"
   ]
  },
  {
   "cell_type": "code",
   "execution_count": 2,
   "metadata": {},
   "outputs": [
    {
     "name": "stdout",
     "output_type": "stream",
     "text": [
      "Admam\n",
      "Lisa\n",
      "Jack\n"
     ]
    },
    {
     "data": {
      "text/plain": [
       "['Admam', 'Lisa', 'Jack']"
      ]
     },
     "execution_count": 2,
     "metadata": {},
     "output_type": "execute_result"
    }
   ],
   "source": [
    "def standards(s):\n",
    "    t = s.lower() # 将所有的字母小写\n",
    "    t = t.capitalize()# 将首字母大写\n",
    "    print(t)\n",
    "    return t\n",
    "\n",
    "list(map(standards, [\"ADMAm\",\"LISA\",\"JACk\"]))\n",
    "\n"
   ]
  },
  {
   "cell_type": "markdown",
   "metadata": {},
   "source": [
    "### 回数:从左向右和从右向左读都是一样的数, 例如,12321, 999, 请利用filter()函数"
   ]
  },
  {
   "cell_type": "code",
   "execution_count": 12,
   "metadata": {},
   "outputs": [
    {
     "name": "stdout",
     "output_type": "stream",
     "text": [
      "<class 'filter'>\n",
      "1-1000 [1, 2, 3, 4, 5, 6, 7, 8, 9, 11, 22, 33, 44, 55, 66, 77, 88, 99, 101, 111, 121, 131, 141, 151, 161, 171, 181, 191, 202, 212, 222, 232, 242, 252, 262, 272, 282, 292, 303, 313, 323, 333, 343, 353, 363, 373, 383, 393, 404, 414, 424, 434, 444, 454, 464, 474, 484, 494, 505, 515, 525, 535, 545, 555, 565, 575, 585, 595, 606, 616, 626, 636, 646, 656, 666, 676, 686, 696, 707, 717, 727, 737, 747, 757, 767, 777, 787, 797, 808, 818, 828, 838, 848, 858, 868, 878, 888, 898, 909, 919, 929, 939, 949, 959, 969, 979, 989, 999]\n"
     ]
    }
   ],
   "source": [
    "def equal(a, b):\n",
    "    return a == b\n",
    "\n",
    "def is_pelindrome(n):\n",
    "    s = str(n) # 先转换成字符串\n",
    "    for i in range(len(s)-1):\n",
    "        if equal(s[i], s[len(s)-i-1]):\n",
    "            continue\n",
    "        else:\n",
    "            return False\n",
    "    return True\n",
    "        \n",
    "output = filter(is_pelindrome, range(1,1000))\n",
    "print(type(output))\n",
    "print('1-1000', list(output))"
   ]
  },
  {
   "cell_type": "markdown",
   "metadata": {},
   "source": [
    "假设,用一组元组表示学生的名字和成绩: L = [('Bob', 75), ('Adam', 92), ('Bart', 66), ('List', 88)]用sorteed()对上述列表按照名字排序"
   ]
  },
  {
   "cell_type": "code",
   "execution_count": 14,
   "metadata": {},
   "outputs": [
    {
     "name": "stdout",
     "output_type": "stream",
     "text": [
      "[('Adam', 92), ('Bob', 75), ('Bart', 66), ('List', 88)]\n"
     ]
    }
   ],
   "source": [
    "L = [('Bob', 75), ('Adam', 92), ('Bart', 66), ('List', 88)]\n",
    "\n",
    "def by_name(t):\n",
    "    t = sorted(t[0], key=str.lower)\n",
    "    return t\n",
    "L2 = sorted(L, key=by_name)\n",
    "print(L2)"
   ]
  },
  {
   "cell_type": "markdown",
   "metadata": {},
   "source": [
    "按照成绩高低进行排序\n"
   ]
  },
  {
   "cell_type": "code",
   "execution_count": 21,
   "metadata": {},
   "outputs": [
    {
     "name": "stdout",
     "output_type": "stream",
     "text": [
      "[('Adam', 92), ('List', 88), ('Bob', 75), ('Bart', 66)]\n"
     ]
    }
   ],
   "source": [
    "def by_score(t):\n",
    "    t = sorted(range(t[1]), key=abs)\n",
    "    return t\n",
    "\n",
    "Lw = sorted(L, key=by_score, reverse=True)\n",
    "print(Lw)"
   ]
  },
  {
   "cell_type": "code",
   "execution_count": 20,
   "metadata": {},
   "outputs": [
    {
     "name": "stdout",
     "output_type": "stream",
     "text": [
      "Help on built-in function sorted in module builtins:\n",
      "\n",
      "sorted(iterable, /, *, key=None, reverse=False)\n",
      "    Return a new list containing all items from the iterable in ascending order.\n",
      "    \n",
      "    A custom key function can be supplied to customize the sort order, and the\n",
      "    reverse flag can be set to request the result in descending order.\n",
      "\n"
     ]
    }
   ],
   "source": [
    "help(sorted)"
   ]
  },
  {
   "cell_type": "markdown",
   "metadata": {},
   "source": [
    "利用map()函数，把用户输入的不规范的英文，变成首字母大写，其他小写的规范的名字：比如说[\"ADMAm\",\"LISA\",\"JACk\"] 利用lamdba函数"
   ]
  },
  {
   "cell_type": "code",
   "execution_count": 29,
   "metadata": {},
   "outputs": [
    {
     "name": "stdout",
     "output_type": "stream",
     "text": [
      "['Admam', 'Lisa', 'Jack']\n"
     ]
    }
   ],
   "source": [
    "ls = [\"ADMAm\",\"LISA\",\"JACk\"]\n",
    "\n",
    "new_ls = map(lambda x: x.lower().title(), ls)\n",
    "print(list(new_ls))"
   ]
  },
  {
   "cell_type": "markdown",
   "metadata": {},
   "source": [
    "回数:从左向右和从右向左读都是一样的数, 例如,12321, 999, 请利用filter()函数 利用lambda函数"
   ]
  },
  {
   "cell_type": "code",
   "execution_count": 32,
   "metadata": {},
   "outputs": [
    {
     "name": "stdout",
     "output_type": "stream",
     "text": [
      "[0, 1, 2, 3, 4, 5, 6, 7, 8, 9, 11, 22, 33, 44, 55, 66, 77, 88, 99, 101, 111, 121, 131, 141, 151, 161, 171, 181, 191, 202, 212, 222, 232, 242, 252, 262, 272, 282, 292, 303, 313, 323, 333, 343, 353, 363, 373, 383, 393, 404, 414, 424, 434, 444, 454, 464, 474, 484, 494, 505, 515, 525, 535, 545, 555, 565, 575, 585, 595, 606, 616, 626, 636, 646, 656, 666, 676, 686, 696, 707, 717, 727, 737, 747, 757, 767, 777, 787, 797, 808, 818, 828, 838, 848, 858, 868, 878, 888, 898, 909, 919, 929, 939, 949, 959, 969, 979, 989, 999]\n"
     ]
    }
   ],
   "source": [
    "# 打印出1-1000之间的函数\n",
    "ls = range(1000)\n",
    "\n",
    "new_ls = filter(lambda x: str(x)[0] == str(x)[len(str(x))-1], ls)\n",
    "print(list(new_ls))"
   ]
  },
  {
   "cell_type": "markdown",
   "metadata": {},
   "source": [
    "假设,用一组元组表示学生的名字和成绩: L = [('Bob', 75), ('Adam', 92), ('Bart', 66), ('List', 88)]用sorteed()对上述列表按照名字排序"
   ]
  },
  {
   "cell_type": "code",
   "execution_count": 36,
   "metadata": {},
   "outputs": [
    {
     "name": "stdout",
     "output_type": "stream",
     "text": [
      "[('Adam', 92), ('Bart', 66), ('Bob', 75), ('List', 88)]\n",
      "[('Adam', 92), ('List', 88), ('Bob', 75), ('Bart', 66)]\n"
     ]
    }
   ],
   "source": [
    "ls = [('Bob', 75), ('Adam', 92), ('Bart', 66), ('List', 88)]\n",
    "\n",
    "new_ls = sorted(ls, key=lambda x: x[0])\n",
    "print(new_ls)\n",
    "\n",
    "new_ls = sorted(ls, key=lambda x: x[1], reverse=True)\n",
    "print(new_ls)\n"
   ]
  },
  {
   "cell_type": "markdown",
   "metadata": {},
   "source": [
    "权重问题:\n",
    "goods = [{'name':'good1', 'price':200, 'seles':100, 'starts': 5, 'comment':450},{'name':'good2', 'price':400, 'seles':120, 'starts': 3, 'comment':650}{'name':'good3', 'price':280, 'seles':107, 'starts': 3, 'comment':40}{'name':'good4', 'price':1100, 'seles':300, 'starts': , 'comment':456}{'name':'good5', 'price':2234, 'seles':170, 'starts': 5, 'comment':350}]\n",
    "\n",
    "权重条件:\n",
    "价格占据35%, 销量占据18%, 评论等级40%, 评论数占据7%"
   ]
  },
  {
   "cell_type": "code",
   "execution_count": 41,
   "metadata": {},
   "outputs": [
    {
     "name": "stdout",
     "output_type": "stream",
     "text": [
      "[{'name': 'good3', 'price': 280, 'seles': 107, 'starts': 3, 'comment': 400}, {'name': 'good1', 'price': 200, 'seles': 100, 'starts': 5, 'comment': 450}, {'name': 'good2', 'price': 400, 'seles': 120, 'starts': 3, 'comment': 650}, {'name': 'good4', 'price': 1100, 'seles': 300, 'starts': 4, 'comment': 456}, {'name': 'good5', 'price': 2234, 'seles': 170, 'starts': 5, 'comment': 350}]\n"
     ]
    }
   ],
   "source": [
    "good_list = [{'name':'good1', 'price':200, 'seles':100, 'starts': 5, 'comment':450},\n",
    "             {'name':'good2', 'price':400, 'seles':120, 'starts': 3, 'comment':650},\n",
    "             {'name':'good3', 'price':280, 'seles':107, 'starts': 3, 'comment':400},\n",
    "             {'name':'good4', 'price':1100, 'seles':300, 'starts': 4,'comment':456},\n",
    "             {'name':'good5', 'price':2234, 'seles':170, 'starts': 5, 'comment':350}]\n",
    "\n",
    "def sort(arg):\n",
    "    price = arg['price']\n",
    "    seles = arg['seles']\n",
    "    starts = arg['starts']\n",
    "    comment = arg['comment']\n",
    "    \n",
    "    data = price*0.35 + seles*0.18 + starts*0.40 + comment*0.7\n",
    "    \n",
    "    return data\n",
    "\n",
    "sort_list = sorted(good_list, key=sort)\n",
    "\n",
    "print(sort_list)\n"
   ]
  },
  {
   "cell_type": "code",
   "execution_count": 45,
   "metadata": {},
   "outputs": [
    {
     "name": "stdout",
     "output_type": "stream",
     "text": [
      "[{'name': 'good3', 'price': 280, 'seles': 107, 'starts': 3, 'comment': 400}, {'name': 'good1', 'price': 200, 'seles': 100, 'starts': 5, 'comment': 450}, {'name': 'good2', 'price': 400, 'seles': 120, 'starts': 3, 'comment': 650}, {'name': 'good4', 'price': 1100, 'seles': 300, 'starts': 4, 'comment': 456}, {'name': 'good5', 'price': 2234, 'seles': 170, 'starts': 5, 'comment': 350}]\n"
     ]
    }
   ],
   "source": [
    "# 使用lambda函数\n",
    "sort_list = sorted(good_list, key=lambda arg: arg['price']*0.35+arg['seles']*0.18+arg['starts']*40+arg['comment'])\n",
    "print(sort_list)"
   ]
  }
 ],
 "metadata": {
  "kernelspec": {
   "display_name": "Python 3",
   "language": "python",
   "name": "python3"
  },
  "language_info": {
   "codemirror_mode": {
    "name": "ipython",
    "version": 3
   },
   "file_extension": ".py",
   "mimetype": "text/x-python",
   "name": "python",
   "nbconvert_exporter": "python",
   "pygments_lexer": "ipython3",
   "version": "3.6.3"
  }
 },
 "nbformat": 4,
 "nbformat_minor": 2
}
