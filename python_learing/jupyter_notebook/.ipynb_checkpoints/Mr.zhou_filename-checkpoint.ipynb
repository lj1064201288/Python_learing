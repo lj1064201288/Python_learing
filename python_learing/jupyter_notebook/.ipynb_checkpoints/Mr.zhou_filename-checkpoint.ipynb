{
 "cells": [
  {
   "cell_type": "markdown",
   "metadata": {},
   "source": [
    "# 编写一个程序,接受用户输入的内容,开启保存为新的文件\n",
    "- 如果用户单独输入:w表示文件保存退出\n",
    "- open()打开文件\n",
    "- input()用户输入内容\n",
    "- 'w'"
   ]
  },
  {
   "cell_type": "code",
   "execution_count": 11,
   "metadata": {},
   "outputs": [
    {
     "name": "stdout",
     "output_type": "stream",
     "text": [
      "请用户输入文件名look.txt\n",
      "请输入内容,(单独输入:w保存退出)\n",
      "asdadfga\n",
      "asdaqqda\n",
      "asdadasda\n",
      ":w\n"
     ]
    }
   ],
   "source": [
    "filename = input('请用户输入文件名')\n",
    "\n",
    "def file_write(file_name):\n",
    "    file = open(file_name, 'w')\n",
    "    \n",
    "    print('请输入内容,(单独输入:w保存退出)')\n",
    "    \n",
    "    while True:\n",
    "        content = input()\n",
    "        # 判断用户是否保存退出\n",
    "        if content != ':w':\n",
    "            # 向文件保存内容\n",
    "            file.write('%s\\n'%content)\n",
    "        else:\n",
    "            # 保存退出\n",
    "            break\n",
    "            \n",
    "file_write(filename)"
   ]
  },
  {
   "cell_type": "code",
   "execution_count": 13,
   "metadata": {},
   "outputs": [
    {
     "name": "stdout",
     "output_type": "stream",
     "text": [
      "<module 'posixpath' from '/var/sw/anaconda3/lib/python3.6/posixpath.py'>\n",
      "asdadfga\n",
      "asdaqqda\n",
      "asdadasda\n",
      "\n"
     ]
    }
   ],
   "source": [
    "import os\n",
    "\n",
    "print(os.path)\n",
    "look = open('./look.txt', 'r')\n",
    "print(look.read())\n"
   ]
  }
 ],
 "metadata": {
  "kernelspec": {
   "display_name": "Python 3",
   "language": "python",
   "name": "python3"
  },
  "language_info": {
   "codemirror_mode": {
    "name": "ipython",
    "version": 3
   },
   "file_extension": ".py",
   "mimetype": "text/x-python",
   "name": "python",
   "nbconvert_exporter": "python",
   "pygments_lexer": "ipython3",
   "version": "3.6.3"
  }
 },
 "nbformat": 4,
 "nbformat_minor": 2
}
