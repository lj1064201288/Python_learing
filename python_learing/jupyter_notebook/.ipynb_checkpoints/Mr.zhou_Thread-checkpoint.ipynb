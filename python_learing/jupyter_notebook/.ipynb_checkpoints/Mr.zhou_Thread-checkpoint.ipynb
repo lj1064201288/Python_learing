{
 "cells": [
  {
   "cell_type": "markdown",
   "metadata": {},
   "source": [
    "### 使用多线程去播放两个列表, 一个是movie, 一个是music\n",
    "- _thread\n",
    "- threading"
   ]
  },
  {
   "cell_type": "code",
   "execution_count": 8,
   "metadata": {},
   "outputs": [
    {
     "name": "stdout",
     "output_type": "stream",
     "text": [
      "你现在收听的是:三字经\n",
      "你现在观看的是:无双\n",
      "你现在收听的是:火力全开\n",
      "你现在观看的是:万能图书馆\n",
      "你现在收听的是:五月天\n",
      "你现在收听的是:we are never every getting to together\n",
      "你现在观看的是:万万没想到\n",
      "你现在收听的是:my love\n",
      "未找到\n",
      "未找到\n"
     ]
    }
   ],
   "source": [
    "import _thread as thread\n",
    "import time\n",
    "\n",
    "movie_list = ['无双.mp4', '万能图书馆.mp4', '万万没想到.m3u8', '复仇者联盟.avi', '等风来.rmvb']\n",
    "music_list = ['三字经.mp3', '火力全开.mp3', '五月天.mp3', 'we are never every getting to together.mp3', 'my love.mp3']\n",
    "\n",
    "movie_format = ['mp4', 'm3u8']\n",
    "music_format = ['mp3']\n",
    "\n",
    "\n",
    "def Thread_test(play_list):\n",
    "    for play in play_list:\n",
    "        if play.split('.')[1] in movie_format:\n",
    "            print('你现在观看的是:{}'.format(play.split('.')[0]))\n",
    "            time.sleep(3)\n",
    "        elif play.split('.')[1] in music_format:\n",
    "            print(\"你现在收听的是:{}\".format(play.split('.')[0]))\n",
    "            time.sleep(2)\n",
    "        else:\n",
    "            print('未找到')\n",
    "            \n",
    "def thread_run():\n",
    "    thread.start_new_thread(Thread_test, (movie_list,))\n",
    "    thread.start_new_thread(Thread_test, (music_list,))\n",
    "    \n",
    "#     while True:\n",
    "#         time.sleep(10)\n",
    "    \n",
    "if __name__ == \"__main__\":\n",
    "    thread_run()"
   ]
  },
  {
   "cell_type": "code",
   "execution_count": 14,
   "metadata": {},
   "outputs": [
    {
     "name": "stdout",
     "output_type": "stream",
     "text": [
      "你现在收看的是:无双\n",
      "你现在收听的是:三字经\n",
      "你现在收听的是:火力全开\n",
      "你现在收看的是:万能图书馆\n",
      "你现在收听的是:五月天\n",
      "你现在收听的是:we are never every getting to together你现在收看的是:万万没想到\n",
      "\n",
      "你现在收听的是:my love\n",
      "格式不正确,或者没有找到\n",
      "格式不正确,或者没有找到\n"
     ]
    }
   ],
   "source": [
    "import threading\n",
    "\n",
    "movie_list = ['无双.mp4', '万能图书馆.mp4', '万万没想到.m3u8', '复仇者联盟.avi', '等风来.rmvb']\n",
    "music_list = ['三字经.mp3', '火力全开.mp3', '五月天.mp3', 'we are never every getting to together.mp3', 'my love.mp3']\n",
    "\n",
    "movie_format = ['mp4', 'm3u8']\n",
    "music_format = ['mp3']\n",
    "\n",
    "\n",
    "def Threading_test(play_list):\n",
    "    for play in play_list:\n",
    "        if play.split('.')[1] in movie_format:\n",
    "            print('你现在收看的是:{}'.format(play.split('.')[0]))\n",
    "            time.sleep(3)\n",
    "        elif play.split('.')[1] in music_format:\n",
    "            print('你现在收听的是:{}'.format(play.split('.')[0]))\n",
    "            time.sleep(2)\n",
    "        else:\n",
    "            print('格式不正确,或者没有找到')\n",
    "            \n",
    "def Threading_run():\n",
    "    t1 = threading.Thread(target=Threading_test, args=(movie_list,))\n",
    "    t2 = threading.Thread(target=Threading_test, args=(music_list,))\n",
    "    t1.start()\n",
    "    t2.start()\n",
    "    \n",
    "if __name__ == \"__main__\":\n",
    "    Threading_run()"
   ]
  }
 ],
 "metadata": {
  "kernelspec": {
   "display_name": "Python 3",
   "language": "python",
   "name": "python3"
  },
  "language_info": {
   "codemirror_mode": {
    "name": "ipython",
    "version": 3
   },
   "file_extension": ".py",
   "mimetype": "text/x-python",
   "name": "python",
   "nbconvert_exporter": "python",
   "pygments_lexer": "ipython3",
   "version": "3.6.3"
  }
 },
 "nbformat": 4,
 "nbformat_minor": 2
}
