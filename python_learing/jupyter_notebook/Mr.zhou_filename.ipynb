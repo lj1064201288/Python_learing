{
 "cells": [
  {
   "cell_type": "markdown",
   "metadata": {},
   "source": [
    "# 编写一个程序,接受用户输入的内容,开启保存为新的文件\n",
    "- 如果用户单独输入:w表示文件保存退出\n",
    "- open()打开文件\n",
    "- input()用户输入内容\n",
    "- 'w'"
   ]
  },
  {
   "cell_type": "code",
   "execution_count": 73,
   "metadata": {},
   "outputs": [
    {
     "name": "stdout",
     "output_type": "stream",
     "text": [
      "请用户输入文件名test1\n",
      "请输入内容,(单独输入:w保存退出)\n",
      "asdadasd\n",
      "sdada\n",
      "sa\n",
      "dasdassdg\n",
      "qwqea\n",
      "asfsdgsd\n",
      "fdertrt\n",
      "sdrgdgdfge\n",
      "asewerwer\n",
      "sefsdfsdf\n",
      "sfsdsdtew\n",
      "sfsdfsfsfgdfh\n",
      "fgdfgdf\n",
      "aaweqwea\n",
      "asdasda\n",
      ":w\n"
     ]
    }
   ],
   "source": [
    "filename = input('请用户输入文件名')\n",
    "\n",
    "def file_write(file_name):\n",
    "    file = open(file_name, 'w')\n",
    "    \n",
    "    print('请输入内容,(单独输入:w保存退出)')\n",
    "    \n",
    "    while True:\n",
    "        content = input()\n",
    "        # 判断用户是否保存退出\n",
    "        if content != ':w':\n",
    "            # 向文件保存内容\n",
    "            file.write('%s\\n'%content)\n",
    "        else:\n",
    "            # 保存退出\n",
    "            break\n",
    "            \n",
    "file_write(filename)"
   ]
  },
  {
   "cell_type": "markdown",
   "metadata": {},
   "source": [
    "### 比较两个文件的内容是否相同,并且返回不同的行数\n",
    "- differ\n",
    "- compare\n",
    "- randline"
   ]
  },
  {
   "cell_type": "code",
   "execution_count": 18,
   "metadata": {},
   "outputs": [
    {
     "name": "stdout",
     "output_type": "stream",
     "text": [
      "请输入需要比较的第一个文件名:test1\n",
      "请输入需要比较的第二个文件名:test3\n",
      "两个文件完全相同\n"
     ]
    }
   ],
   "source": [
    "import os\n",
    "\n",
    "file1 = input('请输入需要比较的第一个文件名:')\n",
    "file2 = input('请输入需要比较的第二个文件名:')\n",
    "\n",
    "def file_comppare(file1, file2):\n",
    "    if os.path.exists(file1):\n",
    "        f1 = open(file1)\n",
    "    else:\n",
    "        print('第一个文件不存在')\n",
    "        return False\n",
    "    if os.path.exists(file2):\n",
    "        f2 = open(file2)\n",
    "    else:\n",
    "        print('第二个文件不存在')\n",
    "        return False\n",
    "    \n",
    "    count = 0 # 统计比较的行数\n",
    "    differ = [] # 将统计出来的行数保存\n",
    "\n",
    "    for line in f1:\n",
    "        line2 = f2.readline()\n",
    "        count += 1\n",
    "        if line != line2:\n",
    "            differ.append(count)\n",
    "        \n",
    "    f1.close()\n",
    "    f2.close()\n",
    "    return differ\n",
    "        \n",
    "differ = file_comppare(file1, file2)\n",
    "if not len(differ):\n",
    "    print('两个文件完全相同')\n",
    "else:\n",
    "    print('两个文件不相同的地方有%s处'%(len(differ)))\n",
    "    for di in differ:\n",
    "        print('其中第%s行不相同'%(di))"
   ]
  },
  {
   "cell_type": "markdown",
   "metadata": {},
   "source": [
    "### 比较两个文件的内容是否相同,并且返回不同的行数\n",
    "- differ\n",
    "- compare\n",
    "- randline"
   ]
  },
  {
   "cell_type": "code",
   "execution_count": 25,
   "metadata": {},
   "outputs": [
    {
     "name": "stdout",
     "output_type": "stream",
     "text": [
      "请输入第一个文件名:test1\n",
      "请输入第二个文件名:test2\n",
      "两个文件有3处不相同\n",
      "其中第1处不相同\n",
      "其中第5处不相同\n",
      "其中第6处不相同\n"
     ]
    }
   ],
   "source": [
    "import os\n",
    "\n",
    "file_one = input('请输入第一个文件名:')\n",
    "file_two = input('请输入第二个文件名:')\n",
    "\n",
    "def compare(file1, file2):\n",
    "    if os.path.exists(file1):\n",
    "        f1 = open(file1)\n",
    "    else:\n",
    "        print('第一个文件名不存在')\n",
    "        return False\n",
    "    if os.path.exists(file2):\n",
    "        f2 = open(file2)\n",
    "    else:\n",
    "        print(\"第二个文件名不存在\")\n",
    "        return False\n",
    "    \n",
    "    count = 0\n",
    "    differ = []\n",
    "    \n",
    "    for line in f1:\n",
    "        line2 = f2.readline()\n",
    "        count += 1\n",
    "        if line != line2:\n",
    "            differ.append(count)\n",
    "    f1.close()\n",
    "    f2.close()\n",
    "    return differ\n",
    "\n",
    "differ = compare(file_one, file_two)\n",
    "\n",
    "if len(differ) == 0:\n",
    "    print('两个文件相同!')\n",
    "else:\n",
    "    print('两个文件有{}处不相同'.format(len(differ)))\n",
    "    for di in differ:\n",
    "        print('其中第{}处不相同'.format(di))"
   ]
  },
  {
   "cell_type": "markdown",
   "metadata": {},
   "source": [
    "#### 编写一个程序,当用户输入文件名和文件行数的时候,将该文件的第N行打印在屏幕上面\n",
    "- input 接收输入文件的名称, input 接收文件的行数\n",
    "\n"
   ]
  },
  {
   "cell_type": "code",
   "execution_count": 47,
   "metadata": {},
   "outputs": [
    {
     "name": "stdout",
     "output_type": "stream",
     "text": [
      "请输入一个文件的名称:test3\n",
      "请输入你要查看的行数:3\n",
      "以下是文件前3行的信息\n",
      "hello\n",
      "collection\n",
      "function\n"
     ]
    }
   ],
   "source": [
    "import os\n",
    "\n",
    "filename = input(r'请输入一个文件的名称:')\n",
    "line_num = int(input(r'请输入你要查看的行数:'))\n",
    "\n",
    "def file_view(filename, line):\n",
    "    if not os.path.exists(filename):\n",
    "        print('这个文件不存在')\n",
    "    else:\n",
    "        file = open(filename)\n",
    "        print('以下是文件前%s行的信息'%(line))\n",
    "        for i in range(line):\n",
    "            content = file.readline()\n",
    "            print(content.strip())\n",
    "        file.close()\n",
    "file_view(filename, line_num)"
   ]
  },
  {
   "cell_type": "markdown",
   "metadata": {},
   "source": [
    "### 在原有的基础上加上一个条件,可以输入需要显示的行数\n",
    "- 类似于:\n",
    "    - [1:9]\n",
    "    - [:]\n",
    "    - [:12]\n",
    "    - [12:15]\n",
    "\n",
    "\n"
   ]
  },
  {
   "cell_type": "code",
   "execution_count": 69,
   "metadata": {},
   "outputs": [
    {
     "name": "stdout",
     "output_type": "stream",
     "text": [
      "请输入一个文件名:test1\n",
      "请输入行号(1:9,12:15)::6\n",
      "asdasd\n",
      "asgasfdsf\n",
      "asdadfaaas\n",
      "asassd\n",
      "zxccc\n",
      "bhghg\n"
     ]
    }
   ],
   "source": [
    "import os\n",
    "\n",
    "filename = input('请输入一个文件名:')\n",
    "line_num = (input('请输入行号(1:9,12:15):'))\n",
    "\n",
    "\n",
    "def print_line(filename, line_num):\n",
    "    \n",
    "    if not os.path.exists(filename):\n",
    "        print('该文件不存在')\n",
    "    else:\n",
    "        f1 = open(filename)\n",
    "        begin, end = line_num.split(\":\")\n",
    "        if begin == '':\n",
    "            begin = '1'\n",
    "        \n",
    "        if end == '':\n",
    "            end = '-1'\n",
    "        \n",
    "        begin = int(begin) - 1\n",
    "        end = int(end)\n",
    "        \n",
    "        line = end - begin\n",
    "        \n",
    "        for i in range(begin):\n",
    "            f1.readline()\n",
    "        \n",
    "        if line < 0:\n",
    "            print(f1.read())\n",
    "        \n",
    "        else:\n",
    "            for i in range(line):\n",
    "                print(f1.readline().strip())\n",
    "                \n",
    "        f1.close()\n",
    "            \n",
    "print_line(filename, line_num)\n",
    "        "
   ]
  },
  {
   "cell_type": "markdown",
   "metadata": {},
   "source": [
    "### 编写一个程序,实现\"全部替换\"的功能\n",
    "- 打开一个文件\n",
    "- 把文件中xxx这样的内容替换成sss这样的内容\n",
    "- open 打开文件\n",
    "- readline 读取文件内容\n",
    "- replace 替换内容"
   ]
  },
  {
   "cell_type": "code",
   "execution_count": 74,
   "metadata": {},
   "outputs": [
    {
     "name": "stdout",
     "output_type": "stream",
     "text": [
      "请输入文件的名称:test1\n",
      "请输入需要替换的内容:as\n",
      "请输入你新的内容:id\n",
      "你确定需要这样做吗?请输入YES/NO:yes\n"
     ]
    }
   ],
   "source": [
    "# 用户输入的控制台\n",
    "filename = input('请输入文件的名称:')\n",
    "rep_word = input('请输入需要替换的内容:')\n",
    "new_word = input('请输入你新的内容:')\n",
    "\n",
    "def replace_file(filename, rep_word, new_word):\n",
    "    if not os.path.exists(filename):\n",
    "        print('文件不存在')\n",
    "        \n",
    "    f = open(filename)\n",
    "    content = []\n",
    "    for eachline in f:\n",
    "        if rep_word in eachline:\n",
    "            eachline = eachline.replace(rep_word, new_word)\n",
    "        content.append(eachline)\n",
    "    \n",
    "    decide = input('你确定需要这样做吗?请输入YES/NO:')\n",
    "    \n",
    "    if decide in ['YES', 'yes', 'Yes']:\n",
    "        f_write = open(filename, 'w')\n",
    "        f_write.write(''.join(content))\n",
    "        f_write.close()\n",
    "        \n",
    "    f.close()\n",
    "    \n",
    "replace_file(filename, rep_word, new_word)\n"
   ]
  },
  {
   "cell_type": "markdown",
   "metadata": {},
   "source": [
    "### 编写一个程序,实现\"全部替换\"的功能\n",
    "- 打开一个文件\n",
    "- 把文件中xxx这样的内容替换成sss这样的内容\n",
    "- open 打开文件\n",
    "- readline 读取文件内容\n",
    "- replace 替换内容\n"
   ]
  },
  {
   "cell_type": "code",
   "execution_count": 79,
   "metadata": {},
   "outputs": [
    {
     "name": "stdout",
     "output_type": "stream",
     "text": [
      "请输入文件名称:test1\n",
      "请输入需要替换的内容:as\n",
      "请输入新的内容:id\n",
      "确定要这样操作吗?YES/NO:yes\n"
     ]
    }
   ],
   "source": [
    "filename = input('请输入文件名称:')\n",
    "rep_word = input('请输入需要替换的内容:')\n",
    "new_word = input('请输入新的内容:')\n",
    "\n",
    "def replace_file(filename, rep_word, new_word):\n",
    "    if not os.path.exists(filename):\n",
    "        print('文件不存在')\n",
    "    else:\n",
    "        f = open(filename)\n",
    "        content = []\n",
    "        \n",
    "        for eachline in f:\n",
    "            if rep_word in eachline:\n",
    "                eachline = eachline.replace(rep_word, new_word)\n",
    "            content.append(eachline)\n",
    "        decide = input('确定要这样操作吗?YES/NO:')\n",
    "        \n",
    "        if decide in ['YES', 'Yes', 'yes']:\n",
    "            f_write = open(filename, 'w')\n",
    "            f_write.write(''.join(content))\n",
    "            f_write.close()\n",
    "            \n",
    "        f.close()\n",
    "            \n",
    "replace_file(filename, rep_word, new_word)\n"
   ]
  },
  {
   "cell_type": "markdown",
   "metadata": {},
   "source": [
    "### 编写一个程序, 统计当前目录下每个文件的文件数\n",
    "- 思路:\n",
    "    - 打开当前文件夹\n",
    "    - 获取到当前文件夹下面所有的文件\n",
    "    - 处理我们当前的文件夹下面可能有文件夹的情况, (也打印出来)\n",
    "    - 做出统计"
   ]
  },
  {
   "cell_type": "code",
   "execution_count": 85,
   "metadata": {},
   "outputs": [
    {
     "name": "stdout",
     "output_type": "stream",
     "text": [
      "该文件夹下面有类型为.json的文件有1\n",
      "该文件夹下面有类型为.txt的文件有1\n",
      "该文件夹下面有类型为.ipynb的文件有6\n",
      "该文件夹下面有类型为的文件有3\n",
      "该文件夹下面有类型为文件夹的文件有1\n"
     ]
    }
   ],
   "source": [
    "import os \n",
    "\n",
    "# 获取当前文件夹下的所有目录\n",
    "all_file = os.listdir(os.curdir)\n",
    "\n",
    "type_dict = dict()\n",
    "\n",
    "for each_file in all_file:\n",
    "    # 如果说我们的each_file是文件夹\n",
    "    if os.path.isdir(each_file):\n",
    "        type_dict.setdefault('文件夹', 0)\n",
    "        type_dict['文件夹'] += 1\n",
    "    else:\n",
    "        # 如果不是文件夹, 而是文件, 统计我们的文件\n",
    "        ext = os.path.splitext(each_file)[1] # 获取到文件的后缀\n",
    "        type_dict.setdefault(ext, 0)\n",
    "        type_dict[ext] += 1\n",
    "        \n",
    "for each_type in type_dict:\n",
    "    print('该文件夹下面有类型为{}的文件有{}'.format(each_type, type_dict[each_type]))"
   ]
  },
  {
   "cell_type": "markdown",
   "metadata": {},
   "source": [
    "### 编写一个程序,计算当前文件夹下面的所有文件大小\n",
    "- 打开当前文件夹\n",
    "- 获取到所有的文件和文件的大小\n",
    "- 保存我们获取到的数据,然后打印出来"
   ]
  },
  {
   "cell_type": "code",
   "execution_count": 1,
   "metadata": {},
   "outputs": [
    {
     "name": "stdout",
     "output_type": "stream",
     "text": [
      "['1234.json', 'look.txt', 'Mr.zhou_except.ipynb', 'Mr.zhou_function_programming.ipynb', 'Mr.zhou_filename.ipynb', 'Mr.zhou_oop.ipynb', 'test1', 'test2', 'test3', 'Mr.zhou_basics.ipynb', '.ipynb_checkpoints', 'Mr.zhou_module.ipynb']\n",
      "不是文件夹\n",
      "1234.json的大小为90\n",
      "look.txt的大小为28\n",
      "Mr.zhou_except.ipynb的大小为58743\n",
      "Mr.zhou_function_programming.ipynb的大小为10157\n",
      "Mr.zhou_filename.ipynb的大小为16639\n",
      "Mr.zhou_oop.ipynb的大小为46528\n",
      "test1的大小为156\n",
      "test2的大小为57\n",
      "test3的大小为50\n",
      "Mr.zhou_basics.ipynb的大小为38092\n",
      "Mr.zhou_module.ipynb的大小为111967\n"
     ]
    }
   ],
   "source": [
    "import os\n",
    "\n",
    "# 打开当前文件夹\n",
    "\n",
    "\n",
    "all_files = os.listdir(os.curdir)\n",
    "print(all_files)\n",
    "file_dict = {}\n",
    "\n",
    "for each_file in all_files:\n",
    "    # 判断我们的这个each_file是否为文件夹\n",
    "    if os.path.isfile(each_file):\n",
    "        file_size = os.path.getsize(each_file)\n",
    "        file_dict[each_file] = file_size\n",
    "    else:\n",
    "        print('不是文件夹')\n",
    "        \n",
    "for each in file_dict.items():\n",
    "    print('{}的大小为{}'.format(each[0], each[1]))"
   ]
  },
  {
   "cell_type": "markdown",
   "metadata": {},
   "source": [
    "#### 编写一个程序,用户输入一个文件名以及开始搜索的路径, 搜索文件名是否存在,如果遇到文件夹, 则进入爱文件继续搜索\n",
    "- input: 去接收用户输入的文件名和开始搜索的路径\n",
    "- os.path.isdir:去判断是不是文件夹,如果是的话,就需要进入该文件夹继续搜索,循环使用一下我们的函数来实现"
   ]
  },
  {
   "cell_type": "code",
   "execution_count": 5,
   "metadata": {},
   "outputs": [
    {
     "name": "stdout",
     "output_type": "stream",
     "text": [
      "请输入起始的搜索路径:.\n",
      "请输入搜索的文件名称:txt\n"
     ]
    }
   ],
   "source": [
    "import os\n",
    "\n",
    "start_file = input('请输入起始的搜索路径:')\n",
    "target = input('请输入搜索的文件名称:')\n",
    "\n",
    "def search_file(start_file, target):\n",
    "    os.chdir(start_file) # 切换到指定的文件录下\n",
    "    for each_file in os.listdir(os.curdir):\n",
    "        if each_file == target:\n",
    "            print(os.getcwd() + os.sep + each_file)\n",
    "        elif os.path.isdir(each_file):\n",
    "            search_file(each_file, target) # 递归调用\n",
    "            os.chdir(os.pardir)\n",
    "    \n",
    "search_file(start_file, target)"
   ]
  },
  {
   "cell_type": "markdown",
   "metadata": {},
   "source": [
    "### 对上述题目加上一些需求, 模糊匹配, 判断我们的target是否包含在某一个文件中\n",
    "- in 去判断target这个字符串是否在文件的名字中\n"
   ]
  },
  {
   "cell_type": "code",
   "execution_count": 1,
   "metadata": {},
   "outputs": [
    {
     "name": "stdout",
     "output_type": "stream",
     "text": [
      "请输入起始的文件路径:./\n",
      "请输入需要搜索的内容:py\n",
      "/home/tlxy/tulingxueyuan/python_learing/jupyter_notebook/Mr.zhou_except.ipynb\n",
      "/home/tlxy/tulingxueyuan/python_learing/jupyter_notebook/Mr.zhou_function_programming.ipynb\n",
      "/home/tlxy/tulingxueyuan/python_learing/jupyter_notebook/Mr.zhou_filename.ipynb\n",
      "/home/tlxy/tulingxueyuan/python_learing/jupyter_notebook/Mr.zhou_oop.ipynb\n",
      "/home/tlxy/tulingxueyuan/python_learing/jupyter_notebook/Mr.zhou_basics.ipynb\n",
      "/home/tlxy/tulingxueyuan/python_learing/jupyter_notebook/.ipynb_checkpoints\n",
      "/home/tlxy/tulingxueyuan/python_learing/jupyter_notebook/Mr.zhou_module.ipynb\n"
     ]
    }
   ],
   "source": [
    "import os \n",
    "\n",
    "start_file = input('请输入起始的文件路径:')\n",
    "target = input('请输入需要搜索的内容:')\n",
    "\n",
    "def search_file(start_file, target):\n",
    "    os.chdir(start_file)\n",
    "    for each_file in os.listdir(os.curdir):\n",
    "        if target in each_file:\n",
    "            print(os.getcwd() + os.sep + each_file)\n",
    "            \n",
    "        elif os.path.isdir(each_file):\n",
    "            search_file(each_file, target)\n",
    "            os.chdir(os.pardir)\n",
    "        \n",
    "search_file(start_file, target)"
   ]
  },
  {
   "cell_type": "markdown",
   "metadata": {},
   "source": [
    "### 再加上一个需求, 上述题目, 我们需要保存我们的文件存在地方, 到我们指定的路径下\n",
    "\n",
    "- file I/O 写文件"
   ]
  },
  {
   "cell_type": "code",
   "execution_count": 7,
   "metadata": {},
   "outputs": [
    {
     "name": "stdout",
     "output_type": "stream",
     "text": [
      "Plase input start directory:../../\n",
      "enter your file name:py\n",
      "enter you assign path:history.txt\n",
      "/home/tlxy/tulingxueyuan/python_learing\n"
     ]
    }
   ],
   "source": [
    "import os\n",
    "\n",
    "start_file = input('Plase input start directory:')\n",
    "target= input('enter your file name:')\n",
    "assign_path = input('enter you assign path:')\n",
    "backup = []\n",
    "\n",
    "def search_write(start_file, target, assign_path):\n",
    "    os.chdir(start_file)\n",
    "    for each_file in os.listdir(os.curdir):\n",
    "        if target in each_file:\n",
    "            content = os.getcwd() + os.sep + each_file\n",
    "            backup.append(content)\n",
    "        elif os.path.isdir(each_file):\n",
    "            search_write(each_file, target, assign_path)\n",
    "            os.chdir(os.pardir)\n",
    "            \n",
    "    f = open(assign_path, 'w', encoding='utf-8')\n",
    "    f.write('\\n'.join(backup))\n",
    "    f.close()\n",
    "                    \n",
    "search_write(start_file, target, assign_path)\n",
    "print(os.getcwd())"
   ]
  }
 ],
 "metadata": {
  "kernelspec": {
   "display_name": "Python 3",
   "language": "python",
   "name": "python3"
  },
  "language_info": {
   "codemirror_mode": {
    "name": "ipython",
    "version": 3
   },
   "file_extension": ".py",
   "mimetype": "text/x-python",
   "name": "python",
   "nbconvert_exporter": "python",
   "pygments_lexer": "ipython3",
   "version": "3.6.3"
  }
 },
 "nbformat": 4,
 "nbformat_minor": 2
}
